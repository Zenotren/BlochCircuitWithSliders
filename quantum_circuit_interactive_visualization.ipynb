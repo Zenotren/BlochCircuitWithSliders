{
 "cells": [
  {
   "cell_type": "code",
   "execution_count": 1,
   "id": "7afa8725-39ea-4261-823b-9e810e4aac43",
   "metadata": {},
   "outputs": [
    {
     "data": {
      "application/vnd.jupyter.widget-view+json": {
       "model_id": "7dd7483edb3c47e2b3984a6144ebd533",
       "version_major": 2,
       "version_minor": 0
      },
      "text/plain": [
       "interactive(children=(FloatSlider(value=0.0, description='θ:', max=6.283185307179586), FloatSlider(value=0.0, …"
      ]
     },
     "metadata": {},
     "output_type": "display_data"
    },
    {
     "data": {
      "text/plain": [
       "<function __main__.simulate_and_visualize(theta, phi)>"
      ]
     },
     "execution_count": 1,
     "metadata": {},
     "output_type": "execute_result"
    }
   ],
   "source": [
    "import numpy as np\n",
    "from qiskit import QuantumCircuit\n",
    "from qiskit.primitives import Sampler\n",
    "from qiskit.visualization import plot_bloch_vector, plot_histogram\n",
    "import matplotlib.pyplot as plt\n",
    "from ipywidgets import interact, FloatSlider\n",
    "from qiskit.quantum_info import Statevector\n",
    "from mpl_toolkits.mplot3d import Axes3D\n",
    "\n",
    "def create_custom_state(theta, phi):\n",
    "    qc = QuantumCircuit(1)\n",
    "    qc.ry(theta, 0)\n",
    "    qc.rz(phi, 0)\n",
    "    return qc\n",
    "\n",
    "def bloch_coordinates(statevector):\n",
    "    x = 2 * np.real(np.conj(statevector[0]) * statevector[1])\n",
    "    y = 2 * np.imag(np.conj(statevector[0]) * statevector[1])\n",
    "    z = np.real(np.conj(statevector[0]) * statevector[0] - np.conj(statevector[1]) * statevector[1])\n",
    "    return [x, y, z]\n",
    "\n",
    "def simulate_and_visualize(theta, phi):\n",
    "    # Create the circuit\n",
    "    qc = create_custom_state(theta, phi)\n",
    "    \n",
    "    # Create a measurement circuit\n",
    "    meas_qc = QuantumCircuit(1, 1)\n",
    "    meas_qc.measure(0, 0)\n",
    "    \n",
    "    # Combine circuits\n",
    "    complete_qc = qc.compose(meas_qc)\n",
    "    \n",
    "    # Simulate the circuit\n",
    "    sampler = Sampler()\n",
    "    job = sampler.run(complete_qc, shots=1000)\n",
    "    result = job.result()\n",
    "    counts = result.quasi_dists[0].binary_probabilities()\n",
    "    \n",
    "    # Get statevector for Bloch sphere\n",
    "    statevector = Statevector.from_instruction(qc)\n",
    "    \n",
    "    # Calculate Bloch vector coordinates\n",
    "    bloch_vector = bloch_coordinates(statevector)\n",
    "\n",
    "    # Create subplots\n",
    "    fig = plt.figure(figsize=(18, 6))\n",
    "    ax1 = fig.add_subplot(131)\n",
    "    ax2 = fig.add_subplot(132, projection='3d')\n",
    "    ax3 = fig.add_subplot(133)\n",
    "    \n",
    "    # Plot circuit\n",
    "    complete_qc.draw('mpl', ax=ax1)\n",
    "    ax1.set_title('Quantum Circuit')\n",
    "    \n",
    "    # Plot Bloch sphere\n",
    "    plot_bloch_vector(bloch_vector, ax=ax2)\n",
    "    ax2.set_title('Bloch Sphere')\n",
    "    \n",
    "    # Plot histogram\n",
    "    plot_histogram(counts, ax=ax3)\n",
    "    ax3.set_title('Measurement Outcome')\n",
    "    \n",
    "    plt.tight_layout()\n",
    "\n",
    "    # Make Bloch sphere rotatable test\n",
    "    def on_motion(event):\n",
    "        if event.inaxes == ax2:\n",
    "            ax2.view_init(elev=event.ydata, azim=event.xdata)\n",
    "            fig.canvas.draw_idle()\n",
    "\n",
    "    fig.canvas.mpl_connect('motion_notify_event', on_motion)\n",
    "    \n",
    "    plt.show()\n",
    "\n",
    "# Create interactive widget\n",
    "interact(simulate_and_visualize,\n",
    "         theta=FloatSlider(min=0, max=2*np.pi, step=0.1, description='θ:'),\n",
    "         phi=FloatSlider(min=0, max=2*np.pi, step=0.1, description='φ:'))"
   ]
  },
  {
   "cell_type": "code",
   "execution_count": null,
   "id": "12e05bf8-d459-4cad-b4bc-079ae3c0e3b3",
   "metadata": {},
   "outputs": [],
   "source": []
  },
  {
   "cell_type": "code",
   "execution_count": null,
   "id": "8244698e-4edc-4baf-b2d2-31156f65ec07",
   "metadata": {},
   "outputs": [],
   "source": []
  },
  {
   "cell_type": "code",
   "execution_count": null,
   "id": "5a9788eb-cb69-4ed8-8da4-625c0116b4a0",
   "metadata": {},
   "outputs": [],
   "source": []
  }
 ],
 "metadata": {
  "kernelspec": {
   "display_name": "Python 3 (ipykernel)",
   "language": "python",
   "name": "python3"
  },
  "language_info": {
   "codemirror_mode": {
    "name": "ipython",
    "version": 3
   },
   "file_extension": ".py",
   "mimetype": "text/x-python",
   "name": "python",
   "nbconvert_exporter": "python",
   "pygments_lexer": "ipython3",
   "version": "3.12.4"
  }
 },
 "nbformat": 4,
 "nbformat_minor": 5
}
